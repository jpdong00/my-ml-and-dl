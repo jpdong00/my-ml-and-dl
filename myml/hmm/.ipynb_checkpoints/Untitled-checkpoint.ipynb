{
 "cells": [
  {
   "cell_type": "markdown",
   "metadata": {},
   "source": [
    "<img src=\"../img/hmm_forward.png\" style=\"zoom:45%;\" align=\"left\"/>"
   ]
  },
  {
   "cell_type": "markdown",
   "metadata": {},
   "source": [
    "<img src=\"../img/hmm_backward.png\" style=\"zoom:45%;\" align=\"left\"/>"
   ]
  },
  {
   "cell_type": "code",
   "execution_count": 17,
   "metadata": {},
   "outputs": [],
   "source": [
    "import numpy as np\n",
    "\n",
    "class HMM:\n",
    "    def __init__(self, pi, A, B):\n",
    "        self.pi = pi  # 初始隐状态概率矩阵\n",
    "        self.A = A  # 转移概率矩阵\n",
    "        self.B = B  # 发射概率矩阵\n",
    "        self.alpha = None\n",
    "        self.beta = None\n",
    "\n",
    "    def forward(self, O):\n",
    "        T = len(O)  # 观测序列长度\n",
    "        N = len(self.A)  # 状态数\n",
    "        alpha = np.zeros([T, N])  # 初始化alpha矩阵\n",
    "\n",
    "        # alpha_1(i)=p_i*b_i(o_1)\n",
    "        alpha[0, :] = self.pi * self.B[:, O[0]]\n",
    "        for t in range(1, T):\n",
    "            # alpha_t+1(i)=\\sum_j{alpha_t(j)*a_ji}*b_i(o_t+1)\n",
    "            alpha[t, :] = np.sum(alpha[t - 1, :] * self.A.T, axis=1) * self.B[:, O[t]]\n",
    "        # print(alpha)\n",
    "        self.alpha = alpha  # shape: N * T\n",
    "\n",
    "        return np.sum(alpha[-1, :])\n",
    "    \n",
    "    def backward(self, O):\n",
    "        T = len(O)  # 观测序列长度\n",
    "        N = len(self.A)  # 状态数\n",
    "        beta = np.zeros([T, N])  # 初始化beta矩阵\n",
    "\n",
    "        # beta_T=1\n",
    "        beta[-1, :] = 1\n",
    "        for t in range(T - 2, -1, -1):\n",
    "            # beta_t(i)=\\sum_j{beta_t+1(j)*a_ij*b_j(o_t+1)}\n",
    "            beta[t, :] = np.sum(beta[t + 1, :] * self.A * self.B[:, O[t + 1]], axis=1)\n",
    "        # print(beta)\n",
    "        self.beta = beta  # shape: N * T\n",
    "\n",
    "        # \\sum_i{pi_i*b_i(o_1)*beta_1(i}\n",
    "        return np.sum(self.pi * self.B[:, O[0]] * beta[0, :])\n",
    "    \n",
    "     def baumwelch(self, O, criterion=0.001):\n",
    "        T = len(O)\n",
    "        N = len(self.A)\n",
    "        while True:\n",
    "            self.forward(O)\n",
    "            self.backward(O)\n",
    "\n",
    "            # 求gamma, shape: T * N\n",
    "            molecular1 = self.alpha * self.beta\n",
    "            denominator1 = np.sum(molecular1, axis=1).reshape(-1, 1)\n",
    "            gamma = molecular1 / denominator1\n",
    "\n",
    "            # 求xi, shape: T * N * N\n",
    "            xi = np.zeros([T - 1, N, N])\n",
    "            for t in range(T - 1):\n",
    "                molecular2 = self.alpha[t, :].reshape(1, -1) * self.A.T * self.B[:, O[t + 1]].reshape(-1,\n",
    "                                                                                                      1) * self.beta[\n",
    "                                                                                                           t + 1,\n",
    "                                                                                                           :].reshape(\n",
    "                    -1, 1)\n",
    "                denominator2 = np.sum(molecular2)\n",
    "                xi[t, :, :] = molecular2.T / denominator2\n",
    "\n",
    "            # 递推\n",
    "            newpi = gamma[0, :]\n",
    "            newA = np.sum(xi, axis=0) / np.sum(gamma[:-1, :], axis=0).reshape(-1, 1)\n",
    "            newB = np.zeros(self.B.shape)\n",
    "            for k in range(self.B.shape[1]):\n",
    "                mask = (O == k)\n",
    "                newB[:, k] = np.sum(gamma[mask, :], axis=0) / np.sum(gamma, axis=0)\n",
    "\n",
    "            # 终止\n",
    "            if np.max(abs(self.pi - newpi)) < criterion and \\\n",
    "                    np.max(abs(self.A - newA)) < criterion and \\\n",
    "                    np.max(abs(self.B - newB)) < criterion:\n",
    "                break\n",
    "\n",
    "            self.A, self.B, self.pi = newA, newB, newpi"
   ]
  },
  {
   "cell_type": "code",
   "execution_count": null,
   "metadata": {},
   "outputs": [],
   "source": []
  },
  {
   "cell_type": "code",
   "execution_count": 2,
   "metadata": {},
   "outputs": [],
   "source": [
    "import numpy as np\n",
    "from tqdm import tqdm\n",
    "import json"
   ]
  },
  {
   "cell_type": "code",
   "execution_count": 3,
   "metadata": {},
   "outputs": [],
   "source": [
    "def load_dict(path):\n",
    "    \"\"\"\n",
    "    加载字典\n",
    "    :param path:\n",
    "    :return:\n",
    "    \"\"\"\n",
    "    with open(path, \"r\", encoding=\"utf-8\") as f:\n",
    "        return json.load(f)\n",
    "\n",
    "\n",
    "def load_data(path):\n",
    "    \"\"\"\n",
    "    读取txt文件, 加载训练数据\n",
    "    :param path:\n",
    "    :return:\n",
    "    [{'text': ['当', '希', '望', ...],\n",
    "     'label': ... }, {...}, ... ]\n",
    "    \"\"\"\n",
    "    with open(path, \"r\", encoding=\"utf-8\") as f:\n",
    "        return [eval(i) for i in f.readlines()]\n"
   ]
  },
  {
   "cell_type": "code",
   "execution_count": 4,
   "metadata": {},
   "outputs": [],
   "source": [
    "class HMM_NER:\n",
    "    def __init__(self, char2idx_path, tag2idx_path):\n",
    "        # 载入一些字典\n",
    "        # char2idx: 字 转换为 token\n",
    "        self.char2idx = load_dict(char2idx_path)\n",
    "        # tag2idx: 标签转换为 token\n",
    "        self.tag2idx = load_dict(tag2idx_path)\n",
    "        # idx2tag: token转换为标签\n",
    "        self.idx2tag = {v: k for k, v in self.tag2idx.items()}\n",
    "        # 初始化隐状态数量(实体标签数)和观测数量(字数)\n",
    "        self.tag_size = len(self.tag2idx)\n",
    "        self.vocab_size = max([v for _, v in self.char2idx.items()]) + 1\n",
    "        # 初始化A, B, pi为全0\n",
    "        self.transition = np.zeros([self.tag_size,\n",
    "                                    self.tag_size])\n",
    "        self.emission = np.zeros([self.tag_size,\n",
    "                                  self.vocab_size])\n",
    "        self.pi = np.zeros(self.tag_size)\n",
    "        # 偏置, 用来防止log(0)或乘0的情况\n",
    "        self.epsilon = 1e-8\n",
    "\n",
    "    def fit(self, train_dic_path):\n",
    "        \"\"\"\n",
    "        fit用来训练HMM模型\n",
    "        :param train_dic_path: 训练数据目录\n",
    "        \"\"\"\n",
    "        print(\"initialize training...\")\n",
    "        train_dic = load_data(train_dic_path)\n",
    "        # 估计转移概率矩阵, 发射概率矩阵和初始概率矩阵的参数\n",
    "        self.estimate_transition_and_initial_probs(train_dic)\n",
    "        self.estimate_emission_probs(train_dic)\n",
    "        # take the logarithm\n",
    "        # 取log防止计算结果下溢\n",
    "        self.pi = np.log(self.pi)\n",
    "        self.transition = np.log(self.transition)\n",
    "        self.emission = np.log(self.emission)\n",
    "        print(\"DONE!\")\n",
    "\n",
    "    def estimate_emission_probs(self, train_dic):\n",
    "        \"\"\"\n",
    "        发射矩阵参数的估计\n",
    "        estimate p( Observation | Hidden_state )\n",
    "        :param train_dic:\n",
    "        :return:\n",
    "        \"\"\"\n",
    "        print(\"estimating emission probabilities...\")\n",
    "        for dic in tqdm(train_dic):\n",
    "            for char, tag in zip(dic[\"text\"], dic[\"label\"]):\n",
    "                self.emission[self.tag2idx[tag],\n",
    "                              self.char2idx[char]] += 1\n",
    "        self.emission[self.emission == 0] = self.epsilon\n",
    "        self.emission /= np.sum(self.emission, axis=1, keepdims=True)\n",
    "\n",
    "    def estimate_transition_and_initial_probs(self, train_dic):\n",
    "        \"\"\"\n",
    "        转移矩阵和初始概率的参数估计, 也就是bigram二元模型\n",
    "        estimate p( Y_t+1 | Y_t )\n",
    "        :param train_dic:\n",
    "        :return:\n",
    "        \"\"\"\n",
    "        print(\"estimating transition and initial probabilities...\")\n",
    "        for dic in tqdm(train_dic):\n",
    "            for i, tag in enumerate(dic[\"label\"][:-1]):\n",
    "                if i == 0:\n",
    "                    self.pi[self.tag2idx[tag]] += 1\n",
    "                curr_tag = self.tag2idx[tag]\n",
    "                next_tag = self.tag2idx[dic[\"label\"][i + 1]]\n",
    "                self.transition[curr_tag, next_tag] += 1\n",
    "        self.transition[self.transition == 0] = self.epsilon\n",
    "        self.transition /= np.sum(self.transition, axis=1, keepdims=True)\n",
    "        self.pi[self.pi == 0] = self.epsilon\n",
    "        self.pi /= np.sum(self.pi)\n",
    "\n",
    "    def get_p_Obs_State(self, char):\n",
    "        # 计算p( observation | state)\n",
    "        # 如果当前字属于未知, 则讲p( observation | state)设为均匀分布\n",
    "        char_token = self.char2idx.get(char, 0)\n",
    "        if char_token == 0:\n",
    "            return np.log(np.ones(self.tag_size) / self.tag_size)\n",
    "        return np.ravel(self.emission[:, char_token])\n",
    "\n",
    "    def predict(self, text):\n",
    "        # 预测并打印出预测结果\n",
    "        # 维特比算法解码\n",
    "        if len(text) == 0:\n",
    "            raise NotImplementedError(\"输入文本为空!\")\n",
    "        best_tag_id = self.viterbi_decode(text)\n",
    "        self.print_func(text, best_tag_id)\n",
    "\n",
    "    def print_func(self, text, best_tags_id):\n",
    "        # 用来打印预测结果\n",
    "        for char, tag_id in zip(text, best_tags_id):\n",
    "            print(char + \"_\" + self.idx2tag[tag_id] + \"|\", end=\"\")\n",
    "\n",
    "    def viterbi_decode(self, text):\n",
    "        \"\"\"\n",
    "        维特比解码, 详见视频教程或文字版教程\n",
    "        :param text: 一段文本string\n",
    "        :return: 最可能的隐状态路径\n",
    "        \"\"\"\n",
    "        # 得到序列长度\n",
    "        seq_len = len(text)\n",
    "        # 初始化T1和T2表格\n",
    "        T1_table = np.zeros([seq_len, self.tag_size])\n",
    "        T2_table = np.zeros([seq_len, self.tag_size])\n",
    "        # 得到第1时刻的发射概率\n",
    "        start_p_Obs_State = self.get_p_Obs_State(text[0])\n",
    "        # 计算第一步初始概率, 填入表中\n",
    "        T1_table[0, :] = self.pi + start_p_Obs_State\n",
    "        T2_table[0, :] = np.nan\n",
    "\n",
    "        for i in range(1, seq_len):\n",
    "            # 维特比算法在每一时刻计算落到每一个隐状态的最大概率和路径\n",
    "            # 并把他们暂存起来\n",
    "            # 这里用到了矩阵化计算方法, 详见视频教程\n",
    "            p_Obs_State = self.get_p_Obs_State(text[i])\n",
    "            p_Obs_State = np.expand_dims(p_Obs_State, axis=0)\n",
    "            prev_score = np.expand_dims(T1_table[i - 1, :], axis=-1)\n",
    "            # 广播算法, 发射概率和转移概率广播 + 转移概率\n",
    "            curr_score = prev_score + self.transition + p_Obs_State\n",
    "            # 存入T1 T2中\n",
    "            T1_table[i, :] = np.max(curr_score, axis=0)\n",
    "            T2_table[i, :] = np.argmax(curr_score, axis=0)\n",
    "        # 回溯\n",
    "        best_tag_id = int(np.argmax(T1_table[-1, :]))\n",
    "        best_tags = [best_tag_id, ]\n",
    "        for i in range(seq_len - 1, 0, -1):\n",
    "            best_tag_id = int(T2_table[i, best_tag_id])\n",
    "            best_tags.append(best_tag_id)\n",
    "        return list(reversed(best_tags))"
   ]
  },
  {
   "cell_type": "code",
   "execution_count": null,
   "metadata": {},
   "outputs": [],
   "source": []
  },
  {
   "cell_type": "code",
   "execution_count": 8,
   "metadata": {},
   "outputs": [
    {
     "name": "stdout",
     "output_type": "stream",
     "text": [
      "initialize training...\n"
     ]
    },
    {
     "name": "stderr",
     "output_type": "stream",
     "text": [
      "  6%|▌         | 3163/55290 [00:00<00:01, 31624.00it/s]"
     ]
    },
    {
     "name": "stdout",
     "output_type": "stream",
     "text": [
      "estimating transition and initial probabilities...\n"
     ]
    },
    {
     "name": "stderr",
     "output_type": "stream",
     "text": [
      "100%|██████████| 55290/55290 [00:01<00:00, 34675.45it/s]\n",
      " 14%|█▍        | 8007/55290 [00:00<00:01, 40097.97it/s]"
     ]
    },
    {
     "name": "stdout",
     "output_type": "stream",
     "text": [
      "estimating emission probabilities...\n"
     ]
    },
    {
     "name": "stderr",
     "output_type": "stream",
     "text": [
      "100%|██████████| 55290/55290 [00:01<00:00, 37821.96it/s]\n"
     ]
    },
    {
     "name": "stdout",
     "output_type": "stream",
     "text": [
      "DONE!\n",
      "中_B-LOC|国_I-LOC|周_O|五_O|宣_O|布_O|其_O|北_B-ORG|斗_I-ORG|三_I-ORG|号_I-ORG|全_I-ORG|球_I-ORG|卫_I-ORG|星_I-ORG|导_I-ORG|航_I-ORG|系_O|统_O|正_O|式_O|开_O|通_O|，_O|并_O|做_O|好_O|为_O|全_O|球_O|提_O|供_O|服_O|务_O|的_O|准_O|备_O|，_O|从_O|而_O|跻_O|身_O|由_O|美_B-LOC|国_I-LOC|、_O|俄_B-LOC|罗_I-LOC|斯_I-LOC|和_O|欧_B-ORG|盟_I-ORG|组_I-ORG|成_O|的_O|提_O|供_O|空_O|基_O|（_O|导_O|航_O|）_O|系_O|统_O|的_O|精_O|英_B-LOC|行_I-LOC|列_I-LOC|。_O|"
     ]
    }
   ],
   "source": [
    "model = HMM_NER(char2idx_path=\"./corpus/char2idx.json\",\n",
    "                tag2idx_path=\"./corpus/label2idx.json\")\n",
    "model.fit(\"./corpus/train.txt\")\n",
    "model.predict(\"中国周五宣布其北斗三号全球卫星导航系统正式开通，并做好为全球提供服务的准备，从而跻身由美国、俄罗斯和欧盟组成的提供空基（导航）系统的精英行列。\")"
   ]
  },
  {
   "cell_type": "code",
   "execution_count": 13,
   "metadata": {},
   "outputs": [
    {
     "name": "stdout",
     "output_type": "stream",
     "text": [
      "中_B-ORG|国_I-ORG|科_I-ORG|学_I-ORG|院_I-ORG|大_I-ORG|学_I-ORG|计_I-ORG|算_I-ORG|机_I-ORG|网_I-ORG|络_I-ORG|信_I-ORG|息_I-ORG|中_I-ORG|心_I-ORG|的_O|研_O|究_O|生_O|董_B-PER|继_I-PER|平_I-PER|"
     ]
    }
   ],
   "source": [
    "model.predict(\"中国科学院大学计算机网络信息中心的研究生董继平\")"
   ]
  },
  {
   "cell_type": "code",
   "execution_count": null,
   "metadata": {},
   "outputs": [],
   "source": []
  }
 ],
 "metadata": {
  "kernelspec": {
   "display_name": "Python [conda env:root] *",
   "language": "python",
   "name": "conda-root-py"
  },
  "language_info": {
   "codemirror_mode": {
    "name": "ipython",
    "version": 3
   },
   "file_extension": ".py",
   "mimetype": "text/x-python",
   "name": "python",
   "nbconvert_exporter": "python",
   "pygments_lexer": "ipython3",
   "version": "3.7.3"
  },
  "nbTranslate": {
   "displayLangs": [
    "*"
   ],
   "hotkey": "alt-t",
   "langInMainMenu": true,
   "sourceLang": "en",
   "targetLang": "fr",
   "useGoogleTranslate": true
  },
  "toc": {
   "base_numbering": 1,
   "nav_menu": {},
   "number_sections": true,
   "sideBar": true,
   "skip_h1_title": false,
   "title_cell": "Table of Contents",
   "title_sidebar": "Contents",
   "toc_cell": false,
   "toc_position": {},
   "toc_section_display": true,
   "toc_window_display": false
  },
  "varInspector": {
   "cols": {
    "lenName": 16,
    "lenType": 16,
    "lenVar": 40
   },
   "kernels_config": {
    "python": {
     "delete_cmd_postfix": "",
     "delete_cmd_prefix": "del ",
     "library": "var_list.py",
     "varRefreshCmd": "print(var_dic_list())"
    },
    "r": {
     "delete_cmd_postfix": ") ",
     "delete_cmd_prefix": "rm(",
     "library": "var_list.r",
     "varRefreshCmd": "cat(var_dic_list()) "
    }
   },
   "types_to_exclude": [
    "module",
    "function",
    "builtin_function_or_method",
    "instance",
    "_Feature"
   ],
   "window_display": false
  }
 },
 "nbformat": 4,
 "nbformat_minor": 2
}
